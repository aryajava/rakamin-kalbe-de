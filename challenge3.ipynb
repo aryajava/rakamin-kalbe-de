{
 "cells": [
  {
   "cell_type": "markdown",
   "metadata": {},
   "source": [
    "#### Challenge 3"
   ]
  },
  {
   "cell_type": "code",
   "execution_count": 5,
   "metadata": {},
   "outputs": [],
   "source": [
    "# Muhammad Arya Java\n",
    "# Rakamin - Kalbe Nutritionals Data Engineer Project Based Internship Program\n",
    "# Final Task\n",
    "# Challenge 3\n",
    "\n",
    "import mysql.connector\n",
    "from mysql.connector import Error\n",
    "\n",
    "# Koneksi ke database MySQL\n",
    "conn = mysql.connector.connect(\n",
    "    host=\"localhost\",\n",
    "    user=\"root\",\n",
    "    password=\"root\",\n",
    "    database=\"rakamin\"\n",
    ")\n",
    "cursor = conn.cursor()\n",
    "\n",
    "try:\n",
    "    # SQL statement untuk menyisipkan data ke tabel karyawan\n",
    "    insert_query = \"INSERT INTO karyawan (first_name, last_name, age, sex, income) VALUES (%s, %s, %s, %s, %s)\"\n",
    "    values = (\"Test\", \"Tiga\", \"39\", \"Male\", \"5000000\")\n",
    "\n",
    "    # Eksekusi SQL statement\n",
    "    cursor.execute(insert_query, values)\n",
    "\n",
    "    # Melakukan perubahan (commit) pada DB\n",
    "    conn.commit()\n",
    "    print(\"Data berhasil disisipkan ke database.\")\n",
    "\n",
    "except Error as e:\n",
    "    print(\"Error:\", e)\n",
    "\n",
    "    # Rollback apabila ada issue\n",
    "    conn.rollback()\n",
    "\n",
    "finally:\n",
    "    if conn:\n",
    "        # Menutup Koneksi\n",
    "        cursor.close()\n",
    "        conn.close()\n",
    "        print(\"Koneksi database berhasil ditutup.\")\n",
    "\n"
   ]
  },
 ],
 "metadata": {
  "kernelspec": {
   "display_name": ".venv",
   "language": "python",
   "name": "python3"
  },
  "language_info": {
   "codemirror_mode": {
    "name": "ipython",
    "version": 3
   },
   "file_extension": ".py",
   "mimetype": "text/x-python",
   "name": "python",
   "nbconvert_exporter": "python",
   "pygments_lexer": "ipython3",
   "version": "3.11.4"
  }
 },
 "nbformat": 4,
 "nbformat_minor": 2
}
